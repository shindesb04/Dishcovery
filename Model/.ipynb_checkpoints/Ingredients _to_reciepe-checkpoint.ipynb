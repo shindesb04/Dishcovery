{
 "cells": [
  {
   "cell_type": "code",
   "execution_count": 57,
   "metadata": {
    "colab": {
     "base_uri": "https://localhost:8080/"
    },
    "executionInfo": {
     "elapsed": 410,
     "status": "ok",
     "timestamp": 1701245050671,
     "user": {
      "displayName": "Rohit Roy",
      "userId": "09590357910688689344"
     },
     "user_tz": 480
    },
    "id": "gysGqSeXGYvX",
    "outputId": "ef3b7468-a4bb-4bef-e1ab-d7c1efa3e00a"
   },
   "outputs": [
    {
     "name": "stdout",
     "output_type": "stream",
     "text": [
      "Total number of Dish titles: 13306\n"
     ]
    }
   ],
   "source": [
    "import pandas as pd\n",
    "\n",
    "# Load dataset from CSV\n",
    "csv_path = '/content/Food Ingredients and Recipe Dataset with Image Name Mapping.csv'\n",
    "recipes_df = pd.read_csv(csv_path)\n",
    "\n",
    "# Count the occurrences of each title\n",
    "title_counts = recipes_df['Title'].value_counts()\n",
    "\n",
    "unique_titles_count = len(recipes_df['Title'].unique())\n",
    "print(f\"Total number of Dish titles: {unique_titles_count}\")\n",
    "\n"
   ]
  },
  {
   "cell_type": "code",
   "execution_count": 41,
   "metadata": {
    "executionInfo": {
     "elapsed": 13578,
     "status": "ok",
     "timestamp": 1701243893662,
     "user": {
      "displayName": "Rohit Roy",
      "userId": "09590357910688689344"
     },
     "user_tz": 480
    },
    "id": "n25Dke1TAxtR"
   },
   "outputs": [],
   "source": [
    "import pandas as pd\n",
    "from sklearn.feature_extraction.text import TfidfVectorizer\n",
    "from sklearn.metrics.pairwise import linear_kernel\n",
    "\n",
    "# Load dataset from CSV\n",
    "csv_path = '/content/Food Ingredients and Recipe Dataset with Image Name Mapping.csv'\n",
    "recipes_df = pd.read_csv(csv_path)\n",
    "\n",
    "# Use TF-IDF to vectorize ingredients\n",
    "tfidf_vectorizer = TfidfVectorizer(stop_words='english')\n",
    "tfidf_matrix = tfidf_vectorizer.fit_transform(recipes_df['Ingredients'])\n",
    "\n",
    "# Compute cosine similarity between recipes\n",
    "cosine_similarities = linear_kernel(tfidf_matrix, tfidf_matrix)\n",
    "\n",
    "# Function to recommend recipes based on user-provided ingredients\n",
    "def recommend_recipes(user_ingredients, recipes_df, tfidf_vectorizer, cosine_similarities):\n",
    "    # Add user's recipe to the DataFrame\n",
    "    user_recipe = {'Title': 'User Recipe', 'Ingredients': user_ingredients}\n",
    "    recipes_df = recipes_df.append(user_recipe, ignore_index=True)\n",
    "\n",
    "    # Use TF-IDF to vectorize ingredients\n",
    "    user_tfidf_matrix = tfidf_vectorizer.transform([user_ingredients])\n",
    "\n",
    "    # Compute cosine similarity between the user's recipe and all recipes\n",
    "    user_cosine_similarities = linear_kernel(user_tfidf_matrix, tfidf_matrix).flatten()\n",
    "\n",
    "    # Sort recipes based on similarity scores\n",
    "    similarity_scores = list(enumerate(user_cosine_similarities))\n",
    "    similarity_scores = sorted(similarity_scores, key=lambda x: x[1], reverse=True)\n",
    "\n",
    "    # Recommend top 3 recipes (excluding the user's recipe)\n",
    "    top_recipes_indices = [index for index, _ in similarity_scores[1:4]]\n",
    "    recommended_recipes = recipes_df.iloc[top_recipes_indices]['Title'].tolist()\n",
    "\n",
    "    return recommended_recipes"
   ]
  },
  {
   "cell_type": "code",
   "execution_count": 51,
   "metadata": {
    "colab": {
     "base_uri": "https://localhost:8080/"
    },
    "executionInfo": {
     "elapsed": 185,
     "status": "ok",
     "timestamp": 1701244813505,
     "user": {
      "displayName": "Rohit Roy",
      "userId": "09590357910688689344"
     },
     "user_tz": 480
    },
    "id": "38bNPpxfB-7r",
    "outputId": "7583b40a-1818-4338-e7c9-7ecc6a32df08"
   },
   "outputs": [
    {
     "name": "stdout",
     "output_type": "stream",
     "text": [
      "Recommended Recipes:\n",
      "- Roasted Curried Cauliflower\n",
      "- Cauliflower Steaks with Cauliflower Purée\n",
      "- Roasted Cauliflower\n"
     ]
    },
    {
     "name": "stderr",
     "output_type": "stream",
     "text": [
      "<ipython-input-41-e8ac4ae80967>:20: FutureWarning: The frame.append method is deprecated and will be removed from pandas in a future version. Use pandas.concat instead.\n",
      "  recipes_df = recipes_df.append(user_recipe, ignore_index=True)\n"
     ]
    }
   ],
   "source": [
    "# Example of recommending recipes for user-provided ingredients\n",
    "user_ingredients = 'Cauliflower'\n",
    "recommended_recipes = recommend_recipes(user_ingredients, recipes_df, tfidf_vectorizer, cosine_similarities)\n",
    "\n",
    "# Print the recommended recipes\n",
    "print(\"Recommended Recipes:\")\n",
    "for recipe in recommended_recipes:\n",
    "    print(\"-\", recipe)"
   ]
  }
 ],
 "metadata": {
  "colab": {
   "authorship_tag": "ABX9TyODt1Bsqn4u6r4TN51kRMle",
   "provenance": []
  },
  "kernelspec": {
   "display_name": "Python 3 (ipykernel)",
   "language": "python",
   "name": "python3"
  },
  "language_info": {
   "codemirror_mode": {
    "name": "ipython",
    "version": 3
   },
   "file_extension": ".py",
   "mimetype": "text/x-python",
   "name": "python",
   "nbconvert_exporter": "python",
   "pygments_lexer": "ipython3",
   "version": "3.11.4"
  }
 },
 "nbformat": 4,
 "nbformat_minor": 1
}
