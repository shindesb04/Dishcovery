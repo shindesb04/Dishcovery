{
 "cells": [
  {
   "cell_type": "markdown",
   "metadata": {
    "id": "P_umfexVLjUe"
   },
   "source": [
    "Importing the Dataset\n"
   ]
  },
  {
   "cell_type": "code",
   "execution_count": null,
   "metadata": {
    "colab": {
     "base_uri": "https://localhost:8080/"
    },
    "executionInfo": {
     "elapsed": 18852,
     "status": "ok",
     "timestamp": 1698218257076,
     "user": {
      "displayName": "Rohit Roy",
      "userId": "09590357910688689344"
     },
     "user_tz": 420
    },
    "id": "Sm93-8EzLc1k",
    "outputId": "356d0c78-815c-4778-cf06-13931f680000"
   },
   "outputs": [
    {
     "name": "stdout",
     "output_type": "stream",
     "text": [
      "Mounted at /content/drive\n"
     ]
    }
   ],
   "source": [
    "from google.colab import drive\n",
    "drive.mount('/content/drive')"
   ]
  },
  {
   "cell_type": "markdown",
   "metadata": {
    "id": "-BfudLCSLe8x"
   },
   "source": [
    "Import the librares"
   ]
  },
  {
   "cell_type": "code",
   "execution_count": null,
   "metadata": {
    "id": "FxeBxPRZLil-"
   },
   "outputs": [],
   "source": [
    "import numpy as np\n",
    "import matplotlib.pyplot as plt\n",
    "import tensorflow as tf"
   ]
  },
  {
   "cell_type": "markdown",
   "metadata": {
    "id": "z_9DsFX8L8VK"
   },
   "source": [
    "Data Preprocessing"
   ]
  },
  {
   "cell_type": "code",
   "execution_count": null,
   "metadata": {
    "colab": {
     "base_uri": "https://localhost:8080/"
    },
    "executionInfo": {
     "elapsed": 6739,
     "status": "ok",
     "timestamp": 1698208791566,
     "user": {
      "displayName": "Rohit Roy",
      "userId": "09590357910688689344"
     },
     "user_tz": 420
    },
    "id": "ApFjoGm9L_YN",
    "outputId": "e0739ff2-ab42-40c1-ed86-634859e99d19"
   },
   "outputs": [
    {
     "name": "stdout",
     "output_type": "stream",
     "text": [
      "Found 3115 files belonging to 36 classes.\n"
     ]
    }
   ],
   "source": [
    "training_set = tf.keras.utils.image_dataset_from_directory(\n",
    "    '/content/drive/MyDrive/Fruit_Vegetable_Recognition/train',\n",
    "    labels=\"inferred\",\n",
    "    label_mode=\"categorical\",\n",
    "    class_names=None,\n",
    "    color_mode=\"rgb\",\n",
    "    batch_size=32,\n",
    "    image_size=(64, 64),\n",
    "    shuffle=True,\n",
    "    seed=None,\n",
    "    validation_split=None,\n",
    "    subset=None,\n",
    "    interpolation=\"bilinear\",\n",
    "    follow_links=False,\n",
    "    crop_to_aspect_ratio=False\n",
    ")\n"
   ]
  },
  {
   "cell_type": "markdown",
   "metadata": {
    "id": "z8X5jnI9UXcT"
   },
   "source": [
    "validation image preprocessing"
   ]
  },
  {
   "cell_type": "code",
   "execution_count": null,
   "metadata": {
    "colab": {
     "base_uri": "https://localhost:8080/"
    },
    "executionInfo": {
     "elapsed": 2124,
     "status": "ok",
     "timestamp": 1695924536427,
     "user": {
      "displayName": "Rohit Roy",
      "userId": "09590357910688689344"
     },
     "user_tz": 420
    },
    "id": "-MpzKVi9U_UE",
    "outputId": "281ef276-f490-4d5e-ecc3-0261b80559ca"
   },
   "outputs": [
    {
     "name": "stdout",
     "output_type": "stream",
     "text": [
      "Found 351 files belonging to 36 classes.\n"
     ]
    }
   ],
   "source": [
    "validation_set = tf.keras.utils.image_dataset_from_directory(\n",
    "    '/content/drive/MyDrive/Fruit_Vegetable_Recognition/validation',\n",
    "    labels=\"inferred\",\n",
    "    label_mode=\"categorical\",\n",
    "    class_names=None,\n",
    "    color_mode=\"rgb\",\n",
    "    batch_size=32,\n",
    "    image_size=(64, 64),\n",
    "    shuffle=True,\n",
    "    seed=None,\n",
    "    validation_split=None,\n",
    "    subset=None,\n",
    "    interpolation=\"bilinear\",\n",
    "    follow_links=False,\n",
    "    crop_to_aspect_ratio=False\n",
    ")"
   ]
  },
  {
   "cell_type": "markdown",
   "metadata": {
    "id": "19iO0ZD3WXxP"
   },
   "source": [
    "Building model"
   ]
  },
  {
   "cell_type": "code",
   "execution_count": null,
   "metadata": {
    "id": "O6TUUdyQWch_"
   },
   "outputs": [],
   "source": [
    "cnn = tf.keras.models.Sequential()"
   ]
  },
  {
   "cell_type": "markdown",
   "metadata": {
    "id": "DdZaXMkqaoQD"
   },
   "source": [
    "Building the layers for the convolnutional neural networks"
   ]
  },
  {
   "cell_type": "code",
   "execution_count": null,
   "metadata": {
    "id": "bokaWHHMauhf"
   },
   "outputs": [],
   "source": [
    "cnn.add(tf.keras.layers.Conv2D(filters = 64,kernel_size=3,activation='relu',input_shape=[64,64,3]))"
   ]
  },
  {
   "cell_type": "code",
   "execution_count": null,
   "metadata": {
    "id": "47h7NIMEbnur"
   },
   "outputs": [],
   "source": [
    "cnn.add(tf.keras.layers.MaxPool2D(pool_size=2,strides = 2))"
   ]
  },
  {
   "cell_type": "code",
   "execution_count": null,
   "metadata": {
    "id": "MOCTDw5-b95R"
   },
   "outputs": [],
   "source": [
    "cnn.add(tf.keras.layers.Conv2D(filters = 64,kernel_size = 3,activation = 'relu'))"
   ]
  },
  {
   "cell_type": "code",
   "execution_count": null,
   "metadata": {
    "id": "P7ld20_IcPoC"
   },
   "outputs": [],
   "source": [
    "cnn.add(tf.keras.layers.MaxPool2D(pool_size=2,strides = 2))"
   ]
  },
  {
   "cell_type": "code",
   "execution_count": null,
   "metadata": {
    "id": "EwHuLfr3dEIU"
   },
   "outputs": [],
   "source": [
    "cnn.add(tf.keras.layers.Dropout(0.5)) # helps in over fittting"
   ]
  },
  {
   "cell_type": "code",
   "execution_count": null,
   "metadata": {
    "id": "jsVEkQp3c4C0"
   },
   "outputs": [],
   "source": [
    "cnn.add(tf.keras.layers.Flatten())"
   ]
  },
  {
   "cell_type": "code",
   "execution_count": null,
   "metadata": {
    "id": "RfDt7b_odZny"
   },
   "outputs": [],
   "source": [
    "cnn.add(tf.keras.layers.Dense(units = 128,activation='relu'))"
   ]
  },
  {
   "cell_type": "code",
   "execution_count": null,
   "metadata": {
    "id": "okDKj0nFdup7"
   },
   "outputs": [],
   "source": [
    "# This is our output layer we are using 32 as number of units because we have 36 different classes\n",
    "cnn.add(tf.keras.layers.Dense(units=36,activation='softmax'))"
   ]
  },
  {
   "cell_type": "markdown",
   "metadata": {
    "id": "8U3c4bnZgkA-"
   },
   "source": [
    "Compiling training phase"
   ]
  },
  {
   "cell_type": "code",
   "execution_count": null,
   "metadata": {
    "id": "r_QY1KBmgdYm"
   },
   "outputs": [],
   "source": [
    "cnn.compile(optimizer='rmsprop',loss='categorical_crossentropy',metrics=['accuracy'])"
   ]
  },
  {
   "cell_type": "code",
   "execution_count": null,
   "metadata": {
    "colab": {
     "base_uri": "https://localhost:8080/"
    },
    "executionInfo": {
     "elapsed": 4543269,
     "status": "ok",
     "timestamp": 1695929080084,
     "user": {
      "displayName": "Rohit Roy",
      "userId": "09590357910688689344"
     },
     "user_tz": 420
    },
    "id": "UFru36KB7QWb",
    "outputId": "63269523-8226-4ff4-b625-3d28e24a1040"
   },
   "outputs": [
    {
     "name": "stdout",
     "output_type": "stream",
     "text": [
      "Epoch 1/30\n",
      "98/98 [==============================] - 766s 7s/step - loss: 9.8132 - accuracy: 0.0324 - val_loss: 3.5429 - val_accuracy: 0.0541\n",
      "Epoch 2/30\n",
      "98/98 [==============================] - 108s 1s/step - loss: 3.8987 - accuracy: 0.0536 - val_loss: 3.3419 - val_accuracy: 0.0969\n",
      "Epoch 3/30\n",
      "98/98 [==============================] - 103s 1s/step - loss: 4.1060 - accuracy: 0.0838 - val_loss: 3.3764 - val_accuracy: 0.1510\n",
      "Epoch 4/30\n",
      "98/98 [==============================] - 102s 1s/step - loss: 3.8432 - accuracy: 0.1136 - val_loss: 9.1723 - val_accuracy: 0.0570\n",
      "Epoch 5/30\n",
      "98/98 [==============================] - 102s 999ms/step - loss: 3.9206 - accuracy: 0.1419 - val_loss: 2.8676 - val_accuracy: 0.3333\n",
      "Epoch 6/30\n",
      "98/98 [==============================] - 111s 1s/step - loss: 3.5633 - accuracy: 0.1961 - val_loss: 2.4654 - val_accuracy: 0.3903\n",
      "Epoch 7/30\n",
      "98/98 [==============================] - 110s 1s/step - loss: 2.9719 - accuracy: 0.2523 - val_loss: 2.4799 - val_accuracy: 0.4274\n",
      "Epoch 8/30\n",
      "98/98 [==============================] - 107s 1s/step - loss: 3.3109 - accuracy: 0.3056 - val_loss: 2.8601 - val_accuracy: 0.3618\n",
      "Epoch 9/30\n",
      "98/98 [==============================] - 102s 989ms/step - loss: 2.7147 - accuracy: 0.3384 - val_loss: 2.1924 - val_accuracy: 0.5043\n",
      "Epoch 10/30\n",
      "98/98 [==============================] - 101s 990ms/step - loss: 2.5547 - accuracy: 0.3804 - val_loss: 2.1047 - val_accuracy: 0.5698\n",
      "Epoch 11/30\n",
      "98/98 [==============================] - 111s 1s/step - loss: 2.2785 - accuracy: 0.4321 - val_loss: 1.9285 - val_accuracy: 0.6353\n",
      "Epoch 12/30\n",
      "98/98 [==============================] - 103s 1s/step - loss: 2.3571 - accuracy: 0.4655 - val_loss: 2.0791 - val_accuracy: 0.6239\n",
      "Epoch 13/30\n",
      "98/98 [==============================] - 111s 1s/step - loss: 2.5945 - accuracy: 0.5075 - val_loss: 1.7680 - val_accuracy: 0.6809\n",
      "Epoch 14/30\n",
      "98/98 [==============================] - 111s 1s/step - loss: 1.9617 - accuracy: 0.5477 - val_loss: 3.5318 - val_accuracy: 0.4900\n",
      "Epoch 15/30\n",
      "98/98 [==============================] - 111s 1s/step - loss: 2.3197 - accuracy: 0.5596 - val_loss: 1.8211 - val_accuracy: 0.6838\n",
      "Epoch 16/30\n",
      "98/98 [==============================] - 107s 1s/step - loss: 1.7417 - accuracy: 0.6071 - val_loss: 1.8008 - val_accuracy: 0.6553\n",
      "Epoch 17/30\n",
      "98/98 [==============================] - 103s 1s/step - loss: 1.6684 - accuracy: 0.6173 - val_loss: 1.4098 - val_accuracy: 0.7607\n",
      "Epoch 18/30\n",
      "98/98 [==============================] - 112s 1s/step - loss: 1.8325 - accuracy: 0.6417 - val_loss: 2.1697 - val_accuracy: 0.6781\n",
      "Epoch 19/30\n",
      "98/98 [==============================] - 112s 1s/step - loss: 1.5517 - accuracy: 0.6726 - val_loss: 1.5891 - val_accuracy: 0.8205\n",
      "Epoch 20/30\n",
      "98/98 [==============================] - 112s 1s/step - loss: 1.5763 - accuracy: 0.6909 - val_loss: 2.0620 - val_accuracy: 0.7607\n",
      "Epoch 21/30\n",
      "98/98 [==============================] - 108s 1s/step - loss: 1.6794 - accuracy: 0.6982 - val_loss: 1.2251 - val_accuracy: 0.8291\n",
      "Epoch 22/30\n",
      "98/98 [==============================] - 114s 1s/step - loss: 1.5291 - accuracy: 0.7140 - val_loss: 1.4832 - val_accuracy: 0.7721\n",
      "Epoch 23/30\n",
      "98/98 [==============================] - 112s 1s/step - loss: 1.1606 - accuracy: 0.7470 - val_loss: 1.4085 - val_accuracy: 0.8462\n",
      "Epoch 24/30\n",
      "98/98 [==============================] - 104s 1s/step - loss: 1.5431 - accuracy: 0.7403 - val_loss: 1.4742 - val_accuracy: 0.8547\n",
      "Epoch 25/30\n",
      "98/98 [==============================] - 112s 1s/step - loss: 1.3100 - accuracy: 0.7486 - val_loss: 1.2771 - val_accuracy: 0.8689\n",
      "Epoch 26/30\n",
      "98/98 [==============================] - 104s 1s/step - loss: 1.2857 - accuracy: 0.7676 - val_loss: 1.3169 - val_accuracy: 0.8946\n",
      "Epoch 27/30\n",
      "98/98 [==============================] - 114s 1s/step - loss: 1.1404 - accuracy: 0.7753 - val_loss: 3.6641 - val_accuracy: 0.6638\n",
      "Epoch 28/30\n",
      "98/98 [==============================] - 112s 1s/step - loss: 1.0109 - accuracy: 0.7978 - val_loss: 1.1616 - val_accuracy: 0.8832\n",
      "Epoch 29/30\n",
      "98/98 [==============================] - 115s 1s/step - loss: 1.1498 - accuracy: 0.7933 - val_loss: 1.2562 - val_accuracy: 0.8832\n",
      "Epoch 30/30\n",
      "98/98 [==============================] - 119s 1s/step - loss: 1.0345 - accuracy: 0.7933 - val_loss: 1.2124 - val_accuracy: 0.8575\n"
     ]
    }
   ],
   "source": [
    "training_history = cnn.fit(x=training_set,validation_data = validation_set,epochs=30)"
   ]
  },
  {
   "cell_type": "markdown",
   "metadata": {
    "id": "P9I_T2Kh-WXE"
   },
   "source": [
    "Saving the CNN Model"
   ]
  },
  {
   "cell_type": "code",
   "execution_count": null,
   "metadata": {
    "id": "anZBLqLp-NjE"
   },
   "outputs": [],
   "source": [
    "cnn.save('trained_model.h5')"
   ]
  },
  {
   "cell_type": "markdown",
   "metadata": {
    "id": "jbSKOfeBT8sA"
   },
   "source": [
    "Recording the history in json file\n"
   ]
  },
  {
   "cell_type": "code",
   "execution_count": null,
   "metadata": {
    "id": "l1kL-5soUAC0"
   },
   "outputs": [],
   "source": [
    "import json\n",
    "with open('training_hist.json','w') as f:\n",
    "  json.dump(training_history.history,f)"
   ]
  },
  {
   "cell_type": "markdown",
   "metadata": {
    "id": "txciNAJXVjBw"
   },
   "source": [
    "Calculating the final accuracy of model achieved on validation set."
   ]
  },
  {
   "cell_type": "code",
   "execution_count": null,
   "metadata": {
    "colab": {
     "base_uri": "https://localhost:8080/"
    },
    "executionInfo": {
     "elapsed": 164,
     "status": "ok",
     "timestamp": 1695930641795,
     "user": {
      "displayName": "Rohit Roy",
      "userId": "09590357910688689344"
     },
     "user_tz": 420
    },
    "id": "Tj1C-2maVoUN",
    "outputId": "55325aba-5581-4d31-e7ca-c95ce1a44358"
   },
   "outputs": [
    {
     "name": "stdout",
     "output_type": "stream",
     "text": [
      "0.8575498461723328\n"
     ]
    }
   ],
   "source": [
    "print(training_history.history['val_accuracy'][-1])"
   ]
  },
  {
   "cell_type": "code",
   "execution_count": null,
   "metadata": {
    "colab": {
     "base_uri": "https://localhost:8080/"
    },
    "executionInfo": {
     "elapsed": 153,
     "status": "ok",
     "timestamp": 1695930669283,
     "user": {
      "displayName": "Rohit Roy",
      "userId": "09590357910688689344"
     },
     "user_tz": 420
    },
    "id": "T2qOtVQ9WBsO",
    "outputId": "45543276-4b51-456e-d17f-4567de74d009"
   },
   "outputs": [
    {
     "data": {
      "text/plain": [
       "[0.054131053388118744,\n",
       " 0.09686609357595444,\n",
       " 0.15099714696407318,\n",
       " 0.056980058550834656,\n",
       " 0.3333333432674408,\n",
       " 0.39031338691711426,\n",
       " 0.4273504316806793,\n",
       " 0.36182335019111633,\n",
       " 0.504273533821106,\n",
       " 0.5698005557060242,\n",
       " 0.6353276371955872,\n",
       " 0.6239316463470459,\n",
       " 0.680911660194397,\n",
       " 0.4900285005569458,\n",
       " 0.6837607026100159,\n",
       " 0.6552706360816956,\n",
       " 0.7606837749481201,\n",
       " 0.6780626773834229,\n",
       " 0.8205128312110901,\n",
       " 0.7606837749481201,\n",
       " 0.8290598392486572,\n",
       " 0.7720797657966614,\n",
       " 0.8461538553237915,\n",
       " 0.8547008633613586,\n",
       " 0.8689458966255188,\n",
       " 0.8945869207382202,\n",
       " 0.6638176441192627,\n",
       " 0.8831908702850342,\n",
       " 0.8831908702850342,\n",
       " 0.8575498461723328]"
      ]
     },
     "execution_count": 23,
     "metadata": {},
     "output_type": "execute_result"
    }
   ],
   "source": [
    "training_history.history['val_accuracy']\n"
   ]
  },
  {
   "cell_type": "markdown",
   "metadata": {
    "id": "li93WsmEW6sF"
   },
   "source": [
    "Accuracy visualization"
   ]
  },
  {
   "cell_type": "code",
   "execution_count": null,
   "metadata": {
    "colab": {
     "base_uri": "https://localhost:8080/",
     "height": 489
    },
    "executionInfo": {
     "elapsed": 1099,
     "status": "ok",
     "timestamp": 1695931173598,
     "user": {
      "displayName": "Rohit Roy",
      "userId": "09590357910688689344"
     },
     "user_tz": 420
    },
    "id": "STS7BS_jW9JX",
    "outputId": "e4ff9607-afeb-4b06-ab14-9ad45d25299d"
   },
   "outputs": [
    {
     "data": {
      "text/plain": [
       "Text(0.5, 1.0, 'Visualisation of Training Accuracy Result')"
      ]
     },
     "execution_count": 26,
     "metadata": {},
     "output_type": "execute_result"
    },
    {
     "data": {
      "image/png": "[encoded data removed]",
      "text/plain": [
       "<Figure size 640x480 with 1 Axes>"
      ]
     },
     "metadata": {},
     "output_type": "display_data"
    }
   ],
   "source": [
    "# Training Visualisation\n",
    "epochs = [i for i in range(1,31)]\n",
    "plt.plot(epochs,training_history.history['accuracy'],color='red')\n",
    "plt.xlabel(\"Number of epochs\")\n",
    "plt.ylabel(\"Accurancy\")\n",
    "plt.title(\"Visualisation of Training Accuracy Result\")"
   ]
  },
  {
   "cell_type": "code",
   "execution_count": null,
   "metadata": {
    "colab": {
     "base_uri": "https://localhost:8080/",
     "height": 472
    },
    "executionInfo": {
     "elapsed": 346,
     "status": "ok",
     "timestamp": 1695931311834,
     "user": {
      "displayName": "Rohit Roy",
      "userId": "09590357910688689344"
     },
     "user_tz": 420
    },
    "id": "_NJ3u_PUYFbn",
    "outputId": "400dc725-064e-4911-82d3-6aef998109cd"
   },
   "outputs": [
    {
     "data": {
      "image/png": "[encoded data removed]",
      "text/plain": [
       "<Figure size 640x480 with 1 Axes>"
      ]
     },
     "metadata": {},
     "output_type": "display_data"
    }
   ],
   "source": [
    "# Visualisation of Validation Accuracy\n",
    "plt.plot(epochs,training_history.history['val_accuracy'],color ='green')\n",
    "plt.xlabel(\"Number of epochs\")\n",
    "plt.ylabel(\"Validation Accuracy\")\n",
    "plt.title(\"visualing the validation Accuracy \")\n",
    "plt.show()"
   ]
  }
 ],
 "metadata": {
  "colab": {
   "authorship_tag": "ABX9TyOYpY8BXd2DYVkIG35euTRG",
   "provenance": []
  },
  "kernelspec": {
   "display_name": "Python 3 (ipykernel)",
   "language": "python",
   "name": "python3"
  },
  "language_info": {
   "codemirror_mode": {
    "name": "ipython",
    "version": 3
   },
   "file_extension": ".py",
   "mimetype": "text/x-python",
   "name": "python",
   "nbconvert_exporter": "python",
   "pygments_lexer": "ipython3",
   "version": "3.11.4"
  }
 },
 "nbformat": 4,
 "nbformat_minor": 1
}
